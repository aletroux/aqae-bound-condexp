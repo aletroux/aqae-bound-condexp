{
 "cells": [
  {
   "cell_type": "code",
   "execution_count": 4,
   "id": "70261539-9750-41f9-84ec-61685e8b79b6",
   "metadata": {
    "tags": []
   },
   "outputs": [
    {
     "name": "stdout",
     "output_type": "stream",
     "text": [
      "N_i = 1000\n",
      "bound = 194.03125254059492\n"
     ]
    }
   ],
   "source": [
    "from scipy.stats import binom\n",
    "from numpy import *\n",
    "\n",
    "def PCi(E_N_i, N):\n",
    "    P=0.0\n",
    "    # ((sin((2/3)*(pi/2)))**2-(sin((1/3)*(pi/2)))**2)/2=0.25\n",
    "    if E_N_i<=0.25:\n",
    "        P=binom.cdf(floor((0.25-E_N_i)*N),N,0.5)\n",
    "        P=P+binom.cdf(floor((0.75-E_N_i)*N),N,0.5)-binom.cdf(ceil((0.25+E_N_i)*N)-1,N,0.5)\n",
    "        P=P+1-binom.cdf(ceil((0.75+E_N_i)*N)-1,N,0.5)\n",
    "    # ((sin((2/5)*(pi/2)))**2-(sin((1/5)*(pi/2)))**2)/2=0.125\n",
    "    if E_N_i<=0.125:\n",
    "        P=P+binom.cdf(floor(((sin((2/5)*(pi/2)))**2-E_N_i)*N),N,0.5)-binom.cdf(ceil(((sin((1/5)*(pi/2)))**2+E_N_i)*N)-1,N,0.5)\n",
    "        P=P+binom.cdf(floor(((sin((4/5)*(pi/2)))**2-E_N_i)*N),N,0.5)-binom.cdf(ceil(((sin((3/5)*(pi/2)))**2+E_N_i)*N)-1,N,0.5)\n",
    "    # ((sin((3/7)*(pi/2)))**2-(sin((2/7)*(pi/2)))**2)/2=0.10024221697560474\n",
    "    if E_N_i<=0.10024221697560474:\n",
    "        P=P+binom.cdf(floor(((sin((3/7)*(pi/2)))**2-E_N_i)*N),N,0.5)-binom.cdf(ceil(((sin((2/7)*(pi/2)))**2+E_N_i)*N)-1,N,0.5)\n",
    "        P=P+binom.cdf(floor(((sin((5/7)*(pi/2)))**2-E_N_i)*N),N,0.5)-binom.cdf(ceil(((sin((4/7)*(pi/2)))**2+E_N_i)*N)-1,N,0.5)\n",
    "    # ((sin((2/5)*(pi/2)))**2-(sin((2/7)*(pi/2)))**2)/2=0.07861820187094652\n",
    "    if E_N_i<=0.07861820187094652:\n",
    "        P=binom.cdf(floor((0.25-E_N_i)*N),N,0.5)\n",
    "        P=P+binom.cdf(floor((0.75-E_N_i)*N),N,0.5)-binom.cdf(ceil((0.25+E_N_i)*N)-1,N,0.5)\n",
    "        P=P+1-binom.cdf(ceil((0.75+E_N_i)*N)-1,N,0.5)\n",
    "        P=P+binom.cdf(floor(((sin((3/7)*(pi/2)))**2-E_N_i)*N),N,0.5)-binom.cdf(ceil(((sin((1/5)*(pi/2)))**2+E_N_i)*N)-1,N,0.5)\n",
    "        P=P+binom.cdf(floor(((sin((4/5)*(pi/2)))**2-E_N_i)*N),N,0.5)-binom.cdf(ceil(((sin((4/7)*(pi/2)))**2+E_N_i)*N)-1,N,0.5)\n",
    "    # ((sin((1/3)*(pi/2)))**2-(sin((1/5)*(pi/2)))**2)/2=0.07725424859373684\n",
    "    if E_N_i<=0.07725424859373684:\n",
    "        P=binom.cdf(floor((0.75-E_N_i)*N),N,0.5)-binom.cdf(ceil((0.25+E_N_i)*N)-1,N,0.5)\n",
    "        P=P+binom.cdf(floor(((sin((3/7)*(pi/2)))**2-E_N_i)*N),N,0.5)\n",
    "        P=P+1-binom.cdf(ceil(((sin((4/7)*(pi/2)))**2+E_N_i)*N)-1,N,0.5)\n",
    "    # ((sin((3/7)*(pi/2)))**2-(sin((1/3)*(pi/2)))**2)/2=0.06936976651092139\n",
    "    if E_N_i<=0.06936976651092139:\n",
    "        P=1.0\n",
    "    return P\n",
    "\n",
    "N_i=1000\n",
    "print(\"N_i =\", N_i)\n",
    "\n",
    "E = ((sin((3/7)*(pi/2)))**2-(sin((1/3)*(pi/2)))**2)/2\n",
    "alpha_prime_i=2*exp(-N_i*2*E*E)\n",
    "\n",
    "bound=N_i\n",
    "for J in range(1,N_i+1):\n",
    "    E_J_i=sqrt((log(2/alpha_prime_i))/(2*J))\n",
    "    bound=min(bound, J+(N_i-J)*(1-PCi(E_J_i,J)))\n",
    "print(\"bound =\", bound)\n"
   ]
  },
  {
   "cell_type": "code",
   "execution_count": null,
   "id": "d0f6f177-6756-4a80-a157-ca192e7b6acf",
   "metadata": {},
   "outputs": [],
   "source": []
  }
 ],
 "metadata": {
  "kernelspec": {
   "display_name": "Python 3 (ipykernel)",
   "language": "python",
   "name": "python3"
  },
  "language_info": {
   "codemirror_mode": {
    "name": "ipython",
    "version": 3
   },
   "file_extension": ".py",
   "mimetype": "text/x-python",
   "name": "python",
   "nbconvert_exporter": "python",
   "pygments_lexer": "ipython3",
   "version": "3.11.5"
  }
 },
 "nbformat": 4,
 "nbformat_minor": 5
}
